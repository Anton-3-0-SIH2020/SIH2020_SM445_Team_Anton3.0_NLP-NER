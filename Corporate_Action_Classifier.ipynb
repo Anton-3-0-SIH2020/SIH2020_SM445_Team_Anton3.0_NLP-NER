{
 "cells": [
  {
   "cell_type": "code",
   "execution_count": 35,
   "metadata": {},
   "outputs": [],
   "source": [
    "import pandas as pd\n",
    "import nltk"
   ]
  },
  {
   "cell_type": "code",
   "execution_count": 36,
   "metadata": {},
   "outputs": [],
   "source": [
    "#Importing the csv file\n",
    "news=pd.read_csv('news.csv')"
   ]
  },
  {
   "cell_type": "code",
   "execution_count": 37,
   "metadata": {},
   "outputs": [
    {
     "output_type": "execute_result",
     "data": {
      "text/plain": "  Category                                               News\n0       ca  The company put in an aggressive bid of Rs 6,0...\n1    notca  Reliance Capital today announced the appointme...\n2    notca  Reports have emerged that Deloitte - the statu...\n3       ca  HG Infra Engineering today fixed a price band ...\n4       ca  US private equity firm Blackstone Group LP is ...",
      "text/html": "<div>\n<style scoped>\n    .dataframe tbody tr th:only-of-type {\n        vertical-align: middle;\n    }\n\n    .dataframe tbody tr th {\n        vertical-align: top;\n    }\n\n    .dataframe thead th {\n        text-align: right;\n    }\n</style>\n<table border=\"1\" class=\"dataframe\">\n  <thead>\n    <tr style=\"text-align: right;\">\n      <th></th>\n      <th>Category</th>\n      <th>News</th>\n    </tr>\n  </thead>\n  <tbody>\n    <tr>\n      <th>0</th>\n      <td>ca</td>\n      <td>The company put in an aggressive bid of Rs 6,0...</td>\n    </tr>\n    <tr>\n      <th>1</th>\n      <td>notca</td>\n      <td>Reliance Capital today announced the appointme...</td>\n    </tr>\n    <tr>\n      <th>2</th>\n      <td>notca</td>\n      <td>Reports have emerged that Deloitte - the statu...</td>\n    </tr>\n    <tr>\n      <th>3</th>\n      <td>ca</td>\n      <td>HG Infra Engineering today fixed a price band ...</td>\n    </tr>\n    <tr>\n      <th>4</th>\n      <td>ca</td>\n      <td>US private equity firm Blackstone Group LP is ...</td>\n    </tr>\n  </tbody>\n</table>\n</div>"
     },
     "metadata": {},
     "execution_count": 37
    }
   ],
   "source": [
    "#Exploratory Data Analysis\n",
    "news.head()"
   ]
  },
  {
   "cell_type": "code",
   "execution_count": 38,
   "metadata": {},
   "outputs": [
    {
     "output_type": "execute_result",
     "data": {
      "text/plain": "       Category                                               News\ncount       125                                                125\nunique        2                                                125\ntop          ca  Man Industries (India) has bought Zero Coupon ...\nfreq         93                                                  1",
      "text/html": "<div>\n<style scoped>\n    .dataframe tbody tr th:only-of-type {\n        vertical-align: middle;\n    }\n\n    .dataframe tbody tr th {\n        vertical-align: top;\n    }\n\n    .dataframe thead th {\n        text-align: right;\n    }\n</style>\n<table border=\"1\" class=\"dataframe\">\n  <thead>\n    <tr style=\"text-align: right;\">\n      <th></th>\n      <th>Category</th>\n      <th>News</th>\n    </tr>\n  </thead>\n  <tbody>\n    <tr>\n      <th>count</th>\n      <td>125</td>\n      <td>125</td>\n    </tr>\n    <tr>\n      <th>unique</th>\n      <td>2</td>\n      <td>125</td>\n    </tr>\n    <tr>\n      <th>top</th>\n      <td>ca</td>\n      <td>Man Industries (India) has bought Zero Coupon ...</td>\n    </tr>\n    <tr>\n      <th>freq</th>\n      <td>93</td>\n      <td>1</td>\n    </tr>\n  </tbody>\n</table>\n</div>"
     },
     "metadata": {},
     "execution_count": 38
    }
   ],
   "source": [
    "#Exploratory Data Analysis\n",
    "news.describe()"
   ]
  },
  {
   "cell_type": "code",
   "execution_count": 39,
   "metadata": {},
   "outputs": [
    {
     "output_type": "execute_result",
     "data": {
      "text/plain": "          News                                                               \n         count unique                                                top freq\nCategory                                                                     \nca          93     93  Man Industries (India) has bought Zero Coupon ...    1\nnotca       32     32  Ashok Haldia, MD & CEO, PTC India Financial Se...    1",
      "text/html": "<div>\n<style scoped>\n    .dataframe tbody tr th:only-of-type {\n        vertical-align: middle;\n    }\n\n    .dataframe tbody tr th {\n        vertical-align: top;\n    }\n\n    .dataframe thead tr th {\n        text-align: left;\n    }\n\n    .dataframe thead tr:last-of-type th {\n        text-align: right;\n    }\n</style>\n<table border=\"1\" class=\"dataframe\">\n  <thead>\n    <tr>\n      <th></th>\n      <th colspan=\"4\" halign=\"left\">News</th>\n    </tr>\n    <tr>\n      <th></th>\n      <th>count</th>\n      <th>unique</th>\n      <th>top</th>\n      <th>freq</th>\n    </tr>\n    <tr>\n      <th>Category</th>\n      <th></th>\n      <th></th>\n      <th></th>\n      <th></th>\n    </tr>\n  </thead>\n  <tbody>\n    <tr>\n      <th>ca</th>\n      <td>93</td>\n      <td>93</td>\n      <td>Man Industries (India) has bought Zero Coupon ...</td>\n      <td>1</td>\n    </tr>\n    <tr>\n      <th>notca</th>\n      <td>32</td>\n      <td>32</td>\n      <td>Ashok Haldia, MD &amp; CEO, PTC India Financial Se...</td>\n      <td>1</td>\n    </tr>\n  </tbody>\n</table>\n</div>"
     },
     "metadata": {},
     "execution_count": 39
    }
   ],
   "source": [
    "#Exploratory Data Analysis\n",
    "news.groupby('Category').describe()"
   ]
  },
  {
   "cell_type": "code",
   "execution_count": 40,
   "metadata": {},
   "outputs": [],
   "source": [
    "import string\n",
    "from nltk.corpus import stopwords"
   ]
  },
  {
   "cell_type": "code",
   "execution_count": 41,
   "metadata": {},
   "outputs": [],
   "source": [
    "#Function to clean the text and pre processing it\n",
    "def text_process(text):\n",
    "    #Remove the punctuation\n",
    "    #Remove the stopwords\n",
    "    #Return list of clean text\n",
    "    text=''.join([char for char in text if char not in string.punctuation])\n",
    "    return [word for word in text.split() if word.lower() not in stopwords.words('english')]"
   ]
  },
  {
   "cell_type": "code",
   "execution_count": 42,
   "metadata": {},
   "outputs": [
    {
     "output_type": "execute_result",
     "data": {
      "text/plain": "0    [company, put, aggressive, bid, Rs, 6000, cror...\n1    [Reliance, Capital, today, announced, appointm...\n2    [Reports, emerged, Deloitte, statutory, audito...\n3    [HG, Infra, Engineering, today, fixed, price, ...\n4    [US, private, equity, firm, Blackstone, Group,...\nName: News, dtype: object"
     },
     "metadata": {},
     "execution_count": 42
    }
   ],
   "source": [
    "#Verifying if the text processing is working\n",
    "news['News'].head(5).apply(text_process)"
   ]
  },
  {
   "cell_type": "code",
   "execution_count": 43,
   "metadata": {},
   "outputs": [],
   "source": [
    "from sklearn.feature_extraction.text import CountVectorizer\n",
    "from sklearn.feature_extraction.text import TfidfTransformer\n",
    "from sklearn.naive_bayes import MultinomialNB\n",
    "from sklearn.model_selection import train_test_split\n",
    "from sklearn.pipeline import Pipeline"
   ]
  },
  {
   "cell_type": "code",
   "execution_count": 44,
   "metadata": {},
   "outputs": [],
   "source": [
    "#Setting up the pipeline\n",
    "pipeline = Pipeline([\n",
    "    ('bow', CountVectorizer(analyzer=text_process)),  # strings to token integer counts\n",
    "    ('tfidf', TfidfTransformer()),  # integer counts to weighted TF-IDF scores\n",
    "    ('classifier', MultinomialNB()),  # train on TF-IDF vectors w/ Naive Bayes classifier\n",
    "])"
   ]
  },
  {
   "cell_type": "code",
   "execution_count": 69,
   "metadata": {
    "tags": []
   },
   "outputs": [
    {
     "output_type": "stream",
     "name": "stdout",
     "text": "75 50 125\n"
    }
   ],
   "source": [
    "#Training and Test split\n",
    "news_train,news_test,category_train,category_test=train_test_split(news['News'],news['Category'],test_size=0.4)\n",
    "print(len(news_train), len(news_test), len(news_train) + len(news_test))"
   ]
  },
  {
   "cell_type": "code",
   "execution_count": 70,
   "metadata": {},
   "outputs": [
    {
     "output_type": "execute_result",
     "data": {
      "text/plain": "Pipeline(steps=[('bow',\n                 CountVectorizer(analyzer=<function text_process at 0x12533cca0>)),\n                ('tfidf', TfidfTransformer()),\n                ('classifier', MultinomialNB())])"
     },
     "metadata": {},
     "execution_count": 70
    }
   ],
   "source": [
    "pipeline.fit(news_train,category_train)"
   ]
  },
  {
   "cell_type": "code",
   "execution_count": 71,
   "metadata": {},
   "outputs": [],
   "source": [
    "predictions = pipeline.predict(news_test)"
   ]
  },
  {
   "cell_type": "code",
   "execution_count": 72,
   "metadata": {
    "tags": []
   },
   "outputs": [
    {
     "output_type": "stream",
     "name": "stdout",
     "text": "precision    recall  f1-score   support\n\n          ca       0.70      1.00      0.82        35\n       notca       0.00      0.00      0.00        15\n\n    accuracy                           0.70        50\n   macro avg       0.35      0.50      0.41        50\nweighted avg       0.49      0.70      0.58        50\n\n"
    }
   ],
   "source": [
    "from sklearn.metrics import classification_report\n",
    "print(classification_report(category_test,predictions,))"
   ]
  },
  {
   "cell_type": "code",
   "execution_count": null,
   "metadata": {},
   "outputs": [],
   "source": []
  }
 ],
 "metadata": {
  "kernelspec": {
   "display_name": "Python 3",
   "language": "python",
   "name": "python3"
  },
  "language_info": {
   "codemirror_mode": {
    "name": "ipython",
    "version": 3
   },
   "file_extension": ".py",
   "mimetype": "text/x-python",
   "name": "python",
   "nbconvert_exporter": "python",
   "pygments_lexer": "ipython3",
   "version": "3.7.4"
  }
 },
 "nbformat": 4,
 "nbformat_minor": 4
}