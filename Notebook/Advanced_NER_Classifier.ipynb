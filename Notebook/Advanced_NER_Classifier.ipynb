{
 "metadata": {
  "language_info": {
   "codemirror_mode": {
    "name": "ipython",
    "version": 3
   },
   "file_extension": ".py",
   "mimetype": "text/x-python",
   "name": "python",
   "nbconvert_exporter": "python",
   "pygments_lexer": "ipython3",
   "version": 3
  },
  "orig_nbformat": 2,
  "kernelspec": {
   "name": "python_defaultSpec_1596439253051",
   "display_name": "Python 3.8.1 64-bit"
  }
 },
 "nbformat": 4,
 "nbformat_minor": 2,
 "cells": [
  {
   "cell_type": "code",
   "execution_count": 1,
   "metadata": {},
   "outputs": [],
   "source": [
    "import pickle\n",
    "import en_core_web_sm\n",
    "import spacy\n",
    "import random\n",
    "from spacy import displacy"
   ]
  },
  {
   "cell_type": "code",
   "execution_count": 2,
   "metadata": {
    "tags": []
   },
   "outputs": [],
   "source": [
    "filename = '../training_data'\n",
    "infile = open(filename,'rb')\n",
    "TRAIN_DATA = pickle.load(infile)\n",
    "infile.close()"
   ]
  },
  {
   "cell_type": "code",
   "execution_count": 3,
   "metadata": {},
   "outputs": [],
   "source": [
    "nlp=spacy.load('en_core_web_sm')"
   ]
  },
  {
   "cell_type": "code",
   "execution_count": 4,
   "metadata": {},
   "outputs": [],
   "source": [
    "def train_model(train_data):\n",
    "    if 'ner' not in nlp.pipe_names:\n",
    "        ner=nlp.create_pipe('ner')\n",
    "        nlp.add_pipe(ner,last=True)\n",
    "    else:\n",
    "        ner = nlp.get_pipe(\"ner\")\n",
    "    for _,annotation in train_data:\n",
    "        for ent in annotation['entities']:\n",
    "            ner.add_label(ent[2])\n",
    "    \n",
    "\n",
    "\n",
    "    other_pipes = [pipe for pipe in nlp.pipe_names if pipe !='ner']\n",
    "    # only train NER\n",
    "    with nlp.disable_pipes(*other_pipes):\n",
    "        optimizer=nlp.entity.create_optimizer()\n",
    "        for itn in range(10):\n",
    "            random.shuffle(train_data)\n",
    "            losses = {}\n",
    "            index=0\n",
    "            for text,annotations in train_data:\n",
    "                try:\n",
    "                    nlp.update(\n",
    "                        [text],  # batch of texts\n",
    "                        [annotations],  # batch of annotations\n",
    "                        drop=0.2,\n",
    "                        sgd=optimizer,  # dropout - make it harder to memorise data\n",
    "                        losses=losses)\n",
    "                except Exception as e:\n",
    "                    pass\n",
    "            print(losses)\n",
    "        \n",
    "    "
   ]
  },
  {
   "cell_type": "code",
   "execution_count": 5,
   "metadata": {
    "tags": []
   },
   "outputs": [
    {
     "output_type": "stream",
     "name": "stdout",
     "text": "{'ner': 815.0031266910136}\n{'ner': 649.6529669092852}\n{'ner': 641.6542264722084}\n{'ner': 684.9925741915504}\n{'ner': 887.0387362321744}\n{'ner': 776.2033724473877}\n{'ner': 658.8202474864702}\n{'ner': 633.8664638452638}\n{'ner': 745.1894530615427}\n{'ner': 691.9560195447184}\n"
    }
   ],
   "source": [
    "train_model(TRAIN_DATA)"
   ]
  },
  {
   "cell_type": "code",
   "execution_count": 8,
   "metadata": {},
   "outputs": [],
   "source": [
    "nlp.to_disk('../nlp_model')"
   ]
  },
  {
   "cell_type": "code",
   "execution_count": 2,
   "metadata": {
    "tags": []
   },
   "outputs": [
    {
     "output_type": "stream",
     "name": "stdout",
     "text": "ex-rights CA_TYPE\nratio of 2:1 at Re 1 per share on March 31, 2011. PURPOSE\n"
    }
   ],
   "source": [
    "nlp = spacy.load('../nlp_model')\n",
    "doc = nlp(\"BAMPSL Securities is quoting ex-rights today. The company has announced a rights in the ratio of 2:1 at Re 1 per share on March 31, 2011. The record date has been fixed at April 20, 2011.\")\n",
    "for ent in doc.ents:\n",
    "    print(ent.text,ent.label_)"
   ]
  },
  {
   "cell_type": "code",
   "execution_count": 4,
   "metadata": {
    "tags": []
   },
   "outputs": [
    {
     "output_type": "display_data",
     "data": {
      "text/plain": "<IPython.core.display.HTML object>",
      "text/html": "<span class=\"tex2jax_ignore\"><!DOCTYPE html>\n<html lang=\"en\">\n    <head>\n        <title>displaCy</title>\n    </head>\n\n    <body style=\"font-size: 16px; font-family: -apple-system, BlinkMacSystemFont, 'Segoe UI', Helvetica, Arial, sans-serif, 'Apple Color Emoji', 'Segoe UI Emoji', 'Segoe UI Symbol'; padding: 4rem 2rem; direction: ltr\">\n<figure style=\"margin-bottom: 6rem\">\n<div class=\"entities\" style=\"line-height: 2.5; direction: ltr\">Canara Bank is quoting \n<mark class=\"entity\" style=\"background: #ddd; padding: 0.45em 0.6em; margin: 0 0.25em; line-height: 1; border-radius: 0.35em;\">\n    ex-dividend\n    <span style=\"font-size: 0.8em; font-weight: bold; line-height: 1; border-radius: 0.35em; text-transform: uppercase; vertical-align: middle; margin-left: 0.5rem\">CA_TYPE</span>\n</mark>\n today. Company recommended a dividend of Rs 11 per equity share (110%) of the \n<mark class=\"entity\" style=\"background: #ddd; padding: 0.45em 0.6em; margin: 0 0.25em; line-height: 1; border-radius: 0.35em;\">\n    face value of Rs 10 for the year ended March 31,\n    <span style=\"font-size: 0.8em; font-weight: bold; line-height: 1; border-radius: 0.35em; text-transform: uppercase; vertical-align: middle; margin-left: 0.5rem\">PURPOSE</span>\n</mark>\n 2011.</div>\n</figure>\n</body>\n</html></span>"
     },
     "metadata": {}
    },
    {
     "output_type": "stream",
     "name": "stdout",
     "text": "\nUsing the 'ent' visualizer\nServing on http://0.0.0.0:5000 ...\n\nShutting down server on port 5000.\n"
    }
   ],
   "source": [
    "displacy.serve(doc,style='ent')"
   ]
  },
  {
   "cell_type": "code",
   "execution_count": null,
   "metadata": {},
   "outputs": [],
   "source": []
  }
 ]
}