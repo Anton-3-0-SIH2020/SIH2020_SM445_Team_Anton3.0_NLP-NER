{
 "metadata": {
  "language_info": {
   "codemirror_mode": {
    "name": "ipython",
    "version": 3
   },
   "file_extension": ".py",
   "mimetype": "text/x-python",
   "name": "python",
   "nbconvert_exporter": "python",
   "pygments_lexer": "ipython3",
   "version": 3
  },
  "orig_nbformat": 2,
  "kernelspec": {
   "name": "python_defaultSpec_1596262047447",
   "display_name": "Python 3.8.1 64-bit"
  }
 },
 "nbformat": 4,
 "nbformat_minor": 2,
 "cells": [
  {
   "cell_type": "code",
   "execution_count": 17,
   "metadata": {},
   "outputs": [],
   "source": [
    "import pickle\n",
    "import en_core_web_sm\n",
    "import spacy\n",
    "import random\n",
    "from spacy import displacy"
   ]
  },
  {
   "cell_type": "code",
   "execution_count": 18,
   "metadata": {
    "tags": []
   },
   "outputs": [],
   "source": [
    "filename = '../training_data'\n",
    "infile = open(filename,'rb')\n",
    "TRAIN_DATA = pickle.load(infile)\n",
    "infile.close()"
   ]
  },
  {
   "cell_type": "code",
   "execution_count": 19,
   "metadata": {},
   "outputs": [],
   "source": [
    "nlp=spacy.load('en_core_web_sm')"
   ]
  },
  {
   "cell_type": "code",
   "execution_count": 20,
   "metadata": {},
   "outputs": [],
   "source": [
    "def train_model(train_data):\n",
    "    if 'ner' not in nlp.pipe_names:\n",
    "        ner=nlp.create_pipe('ner')\n",
    "        nlp.add_pipe(ner,last=True)\n",
    "    else:\n",
    "        ner = nlp.get_pipe(\"ner\")\n",
    "    for _,annotation in train_data:\n",
    "        for ent in annotation['entities']:\n",
    "            ner.add_label(ent[2])\n",
    "    \n",
    "\n",
    "\n",
    "    other_pipes = [pipe for pipe in nlp.pipe_names if pipe !='ner']\n",
    "    # only train NER\n",
    "    with nlp.disable_pipes(*other_pipes):\n",
    "        optimizer=nlp.entity.create_optimizer()\n",
    "        for itn in range(10):\n",
    "            random.shuffle(train_data)\n",
    "            losses = {}\n",
    "            index=0\n",
    "            for text,annotations in train_data:\n",
    "                try:\n",
    "                    nlp.update(\n",
    "                        [text],  # batch of texts\n",
    "                        [annotations],  # batch of annotations\n",
    "                        drop=0.2,\n",
    "                        sgd=optimizer,  # dropout - make it harder to memorise data\n",
    "                        losses=losses)\n",
    "                except Exception as e:\n",
    "                    pass\n",
    "            print(losses)\n",
    "        \n",
    "    "
   ]
  },
  {
   "cell_type": "code",
   "execution_count": 21,
   "metadata": {
    "tags": []
   },
   "outputs": [
    {
     "output_type": "stream",
     "name": "stdout",
     "text": "{'ner': 1363.5893811372548}\n{'ner': 1292.0212535316896}\n{'ner': 1160.0665547975632}\n{'ner': 1189.0017516318376}\n{'ner': 1258.1401791689552}\n{'ner': 1132.8750946703726}\n{'ner': 1086.143523698841}\n{'ner': 1096.4329109035023}\n{'ner': 1010.4886286383512}\n{'ner': 1084.25339865586}\n"
    }
   ],
   "source": [
    "train_model(TRAIN_DATA)"
   ]
  },
  {
   "cell_type": "code",
   "execution_count": 22,
   "metadata": {},
   "outputs": [],
   "source": [
    "nlp.to_disk('nlp_model')"
   ]
  },
  {
   "cell_type": "code",
   "execution_count": 23,
   "metadata": {
    "tags": []
   },
   "outputs": [
    {
     "output_type": "stream",
     "name": "stdout",
     "text": "annual general meeting CA_TYPE\n"
    }
   ],
   "source": [
    "nlp = spacy.load('nlp_model')\n",
    "doc = nlp(\"Shareholders of Torrent Power will consider a proposal for a dividend of Rs 2.20 per share for 2016-17 at its annual general meeting on August 1\")\n",
    "for ent in doc.ents:\n",
    "    print(ent.text,ent.label_)"
   ]
  },
  {
   "cell_type": "code",
   "execution_count": 15,
   "metadata": {
    "tags": []
   },
   "outputs": [
    {
     "output_type": "display_data",
     "data": {
      "text/plain": "<IPython.core.display.HTML object>",
      "text/html": "<span class=\"tex2jax_ignore\"><!DOCTYPE html>\n<html lang=\"en\">\n    <head>\n        <title>displaCy</title>\n    </head>\n\n    <body style=\"font-size: 16px; font-family: -apple-system, BlinkMacSystemFont, 'Segoe UI', Helvetica, Arial, sans-serif, 'Apple Color Emoji', 'Segoe UI Emoji', 'Segoe UI Symbol'; padding: 4rem 2rem; direction: ltr\">\n<figure style=\"margin-bottom: 6rem\">\n<div class=\"entities\" style=\"line-height: 2.5; direction: ltr\">Shareholders of Torrent Power will consider a \n<mark class=\"entity\" style=\"background: #ddd; padding: 0.45em 0.6em; margin: 0 0.25em; line-height: 1; border-radius: 0.35em;\">\n    proposal\n    <span style=\"font-size: 0.8em; font-weight: bold; line-height: 1; border-radius: 0.35em; text-transform: uppercase; vertical-align: middle; margin-left: 0.5rem\">CA_TYPE</span>\n</mark>\n for a dividend of Rs 2.20 per share for 2016-17 at its annual general meeting on August 1</div>\n</figure>\n</body>\n</html></span>"
     },
     "metadata": {}
    },
    {
     "output_type": "stream",
     "name": "stdout",
     "text": "\nUsing the 'ent' visualizer\nServing on http://0.0.0.0:5000 ...\n\nShutting down server on port 5000.\n"
    }
   ],
   "source": [
    "displacy.serve(doc,style='ent')"
   ]
  },
  {
   "cell_type": "code",
   "execution_count": null,
   "metadata": {},
   "outputs": [],
   "source": []
  }
 ]
}